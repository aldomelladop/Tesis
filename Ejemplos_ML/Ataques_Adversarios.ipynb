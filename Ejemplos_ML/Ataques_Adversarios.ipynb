{
 "cells": [
  {
   "cell_type": "markdown",
   "metadata": {},
   "source": [
    "### **IA Notebook 2 | Ataques Adversarios**"
   ]
  },
  {
   "cell_type": "code",
   "execution_count": 81,
   "metadata": {},
   "outputs": [],
   "source": [
    "import tensorflow as tf\n",
    "import keras\n",
    "\n",
    "import matplotlib.pyplot as plt\n",
    "import numpy as np"
   ]
  },
  {
   "cell_type": "code",
   "execution_count": 82,
   "metadata": {},
   "outputs": [],
   "source": [
    "from keras.applications.inception_v3 import InceptionV3, decode_predictions\n",
    "from keras import backend as K"
   ]
  },
  {
   "cell_type": "code",
   "execution_count": 83,
   "metadata": {},
   "outputs": [],
   "source": [
    "iv3 = InceptionV3()"
   ]
  },
  {
   "cell_type": "code",
   "execution_count": 84,
   "metadata": {},
   "outputs": [],
   "source": [
    "from keras.preprocessing import image"
   ]
  },
  {
   "cell_type": "code",
   "execution_count": 86,
   "metadata": {},
   "outputs": [
    {
     "name": "stdout",
     "output_type": "stream",
     "text": [
      "(299, 299, 3)\n",
      "(299, 299, 3)\n"
     ]
    }
   ],
   "source": [
    "img = image.load_img('lake.jpeg', target_size=(299, 299))\n",
    "x = image.img_to_array(img)\n",
    "\n",
    "img = image.load_img('smartphone.jpeg', target_size=(299, 299))\n",
    "z = image.img_to_array(img)\n",
    "\n",
    "#Dim 600x800 3 colores 0-255\n",
    "print(x.shape)\n",
    "print(z.shape)\n"
   ]
  },
  {
   "cell_type": "code",
   "execution_count": null,
   "metadata": {},
   "outputs": [],
   "source": []
  },
  {
   "cell_type": "code",
   "execution_count": 87,
   "metadata": {},
   "outputs": [],
   "source": [
    "#Para cambiar el rango utilizado en v3 de 0-255 a -1 a 1\n",
    "#print(\"\\nDividir por 255\\n\")\n",
    "x/=255\n",
    "z/=255\n",
    "#print(x)\n",
    "\n",
    "#print(\"\\nRestar 0.5\\n\")\n",
    "x-=0.5\n",
    "z-=0.5\n",
    "#print(x)\n",
    "\n",
    "#print(\"\\nMultiplicar por 2\\n\")\n",
    "x*=2\n",
    "z*=2\n",
    "#print(x)"
   ]
  },
  {
   "cell_type": "code",
   "execution_count": 88,
   "metadata": {},
   "outputs": [
    {
     "name": "stdout",
     "output_type": "stream",
     "text": [
      "(1, 299, 299, 3)\n",
      "(1, 299, 299, 3)\n"
     ]
    }
   ],
   "source": [
    "x = x.reshape([1, x.shape[0], x.shape[1], x.shape[2]])\n",
    "z = z.reshape([1, z.shape[0], z.shape[1], z.shape[2]])\n",
    "print(x.shape)\n",
    "print(z.shape)"
   ]
  },
  {
   "cell_type": "code",
   "execution_count": 96,
   "metadata": {},
   "outputs": [
    {
     "data": {
      "text/plain": [
       "(1, 1000)"
      ]
     },
     "execution_count": 96,
     "metadata": {},
     "output_type": "execute_result"
    }
   ],
   "source": [
    "y = iv3.predict(x)\n",
    "y.shape"
   ]
  },
  {
   "cell_type": "code",
   "execution_count": 97,
   "metadata": {},
   "outputs": [
    {
     "data": {
      "text/plain": [
       "(1, 1000)"
      ]
     },
     "execution_count": 97,
     "metadata": {},
     "output_type": "execute_result"
    }
   ],
   "source": [
    "\n",
    "w = iv3.predict(z)\n",
    "w.shape"
   ]
  },
  {
   "cell_type": "code",
   "execution_count": 99,
   "metadata": {},
   "outputs": [
    {
     "data": {
      "text/plain": [
       "[[('n09332890', 'lakeside', 0.5516713),\n",
       "  ('n02859443', 'boathouse', 0.19805788),\n",
       "  ('n03216828', 'dock', 0.0741322),\n",
       "  ('n02894605', 'breakwater', 0.012552946),\n",
       "  ('n03160309', 'dam', 0.009696215)]]"
      ]
     },
     "execution_count": 99,
     "metadata": {},
     "output_type": "execute_result"
    }
   ],
   "source": [
    "decode_predictions(y)"
   ]
  },
  {
   "cell_type": "code",
   "execution_count": 101,
   "metadata": {},
   "outputs": [
    {
     "data": {
      "text/plain": [
       "[[('n03485407', 'hand-held_computer', 0.5990541),\n",
       "  ('n02992529', 'cellular_telephone', 0.12703231),\n",
       "  ('n04074963', 'remote_control', 0.025463404),\n",
       "  ('n03584254', 'iPod', 0.014681298),\n",
       "  ('n04264628', 'space_bar', 0.004137916)]]"
      ]
     },
     "execution_count": 101,
     "metadata": {},
     "output_type": "execute_result"
    }
   ],
   "source": [
    "decode_predictions(w)"
   ]
  },
  {
   "cell_type": "markdown",
   "metadata": {},
   "source": [
    "## **Ataques Adversarios**"
   ]
  },
  {
   "cell_type": "code",
   "execution_count": 105,
   "metadata": {},
   "outputs": [
    {
     "name": "stdout",
     "output_type": "stream",
     "text": [
      "Tensor(\"input_5:0\", shape=(?, 299, 299, 3), dtype=float32)\n",
      "Tensor(\"predictions_4/Softmax:0\", shape=(?, 1000), dtype=float32)\n"
     ]
    }
   ],
   "source": [
    "#crearán un grafo que busca confundir a la red neuronal, pero que además represente el proceso de optimización \n",
    "#donde se maximiza la posibilidad de que cierta predicción aparezca\n",
    "\n",
    "inp_layer = iv3.layers[0].input\n",
    "out_layer = iv3.layers[-1].output\n",
    "\n",
    "target_class = 951 #clase objetivo cuya probabilidad será maximizada\n",
    "\n",
    "loss = out_layer[0,target_class]\n",
    "\n",
    "grad = K.gradients(loss,inp_layer)[0] #Hace el proceso de calcular el gradiente entre el error y la var de entrada.\n"
   ]
  }
 ],
 "metadata": {
  "kernelspec": {
   "display_name": "Python 3",
   "language": "python",
   "name": "python3"
  },
  "language_info": {
   "codemirror_mode": {
    "name": "ipython",
    "version": 3
   },
   "file_extension": ".py",
   "mimetype": "text/x-python",
   "name": "python",
   "nbconvert_exporter": "python",
   "pygments_lexer": "ipython3",
   "version": "3.7.3"
  }
 },
 "nbformat": 4,
 "nbformat_minor": 4
}
